{
 "cells": [
  {
   "cell_type": "markdown",
   "metadata": {
    "heading_collapsed": true
   },
   "source": [
    "# 0.0. Imports"
   ]
  },
  {
   "cell_type": "code",
   "execution_count": 1,
   "metadata": {
    "ExecuteTime": {
     "end_time": "2021-01-08T08:33:48.863284Z",
     "start_time": "2021-01-08T08:33:44.335747Z"
    },
    "hidden": true
   },
   "outputs": [],
   "source": [
    "import pandas as pd\n",
    "import requests\n",
    "from bs4 import BeautifulSoup"
   ]
  },
  {
   "cell_type": "markdown",
   "metadata": {
    "heading_collapsed": true
   },
   "source": [
    "# 1.0. requests"
   ]
  },
  {
   "cell_type": "code",
   "execution_count": 2,
   "metadata": {
    "ExecuteTime": {
     "end_time": "2021-01-08T08:33:51.891214Z",
     "start_time": "2021-01-08T08:33:48.865974Z"
    },
    "hidden": true
   },
   "outputs": [
    {
     "data": {
      "text/plain": [
       "200"
      ]
     },
     "execution_count": 2,
     "metadata": {},
     "output_type": "execute_result"
    }
   ],
   "source": [
    "url1 = 'https://www.flipkart.com/mobiles/pr?sid=tyy%2C4io&otracker=categorytree%27'\n",
    "r = requests.get(url1)\n",
    "\n",
    "r.status_code"
   ]
  },
  {
   "cell_type": "markdown",
   "metadata": {
    "heading_collapsed": true
   },
   "source": [
    "# 2.0. BeautifulSoup"
   ]
  },
  {
   "cell_type": "code",
   "execution_count": 3,
   "metadata": {
    "ExecuteTime": {
     "end_time": "2021-01-08T08:33:52.083904Z",
     "start_time": "2021-01-08T08:33:51.894482Z"
    },
    "hidden": true
   },
   "outputs": [],
   "source": [
    "soup = BeautifulSoup(r.content, 'html.parser')"
   ]
  },
  {
   "cell_type": "code",
   "execution_count": 4,
   "metadata": {
    "ExecuteTime": {
     "end_time": "2021-01-08T08:33:52.104656Z",
     "start_time": "2021-01-08T08:33:52.086575Z"
    },
    "hidden": true
   },
   "outputs": [],
   "source": [
    "MobileInfo = []\n",
    "\n",
    "for text in soup.find_all('div',{'class':'_3pLy-c row'}):\n",
    "    b = text\n",
    "    MobileInfo.append(b)"
   ]
  },
  {
   "cell_type": "markdown",
   "metadata": {
    "hidden": true
   },
   "source": [
    "## 2.1. Checking class labels"
   ]
  },
  {
   "cell_type": "code",
   "execution_count": 5,
   "metadata": {
    "ExecuteTime": {
     "end_time": "2021-01-08T08:33:52.116553Z",
     "start_time": "2021-01-08T08:33:52.107092Z"
    },
    "hidden": true,
    "scrolled": true
   },
   "outputs": [
    {
     "name": "stdout",
     "output_type": "stream",
     "text": [
      "<div class=\"_3pLy-c row\">\n",
      " <div class=\"col col-7-12\">\n",
      "  <div class=\"_4rR01T\">\n",
      "   Realme C11 (Rich Grey, 32 GB)\n",
      "  </div>\n",
      "  <div class=\"gUuXy-\">\n",
      "   <span class=\"_1lRcqv\" id=\"productRating_LSTMOBFTAYBBVKFEGTZWP31JF_MOBFTAYBBVKFEGTZ_\">\n",
      "    <div class=\"_3LWZlK\">\n",
      "     4.4\n",
      "     <img class=\"_1wB99o\" src=\"data:image/svg+xml;base64,PHN2ZyB4bWxucz0iaHR0cDovL3d3dy53My5vcmcvMjAwMC9zdmciIHdpZHRoPSIxMyIgaGVpZ2h0PSIxMiI+PHBhdGggZmlsbD0iI0ZGRiIgZD0iTTYuNSA5LjQzOWwtMy42NzQgMi4yMy45NC00LjI2LTMuMjEtMi44ODMgNC4yNTQtLjQwNEw2LjUuMTEybDEuNjkgNC4wMSA0LjI1NC40MDQtMy4yMSAyLjg4Mi45NCA0LjI2eiIvPjwvc3ZnPg==\"/>\n",
      "    </div>\n",
      "   </span>\n",
      "   <span class=\"_2_R_DZ\">\n",
      "    <span>\n",
      "     <span>\n",
      "      3,56,785 Ratings\n",
      "     </span>\n",
      "     <span class=\"_13vcmD\">\n",
      "      &amp;\n",
      "     </span>\n",
      "     <span>\n",
      "      24,220 Reviews\n",
      "     </span>\n",
      "    </span>\n",
      "   </span>\n",
      "  </div>\n",
      "  <div class=\"fMghEO\">\n",
      "   <ul class=\"_1xgFaf\">\n",
      "    <li class=\"rgWa7D\">\n",
      "     2 GB RAM | 32 GB ROM | Expandable Upto 256 GB\n",
      "    </li>\n",
      "    <li class=\"rgWa7D\">\n",
      "     16.51 cm (6.5 inch) HD+ Display\n",
      "    </li>\n",
      "    <li class=\"rgWa7D\">\n",
      "     13MP + 2MP | 5MP Front Camera\n",
      "    </li>\n",
      "    <li class=\"rgWa7D\">\n",
      "     5000 mAh Battery\n",
      "    </li>\n",
      "    <li class=\"rgWa7D\">\n",
      "     Mediatek Helio G35 Processor\n",
      "    </li>\n",
      "    <li class=\"rgWa7D\">\n",
      "     Brand Warranty of 1 Year Available for Mobile and 6 Months for Accessories\n",
      "    </li>\n",
      "   </ul>\n",
      "  </div>\n",
      " </div>\n",
      " <div class=\"col col-5-12 nlI3QM\">\n",
      "  <div class=\"_3tbKJL\">\n",
      "   <div class=\"_25b18c\">\n",
      "    <div class=\"_30jeq3 _1_WHN1\">\n",
      "     ₹7,499\n",
      "    </div>\n",
      "    <div class=\"_3I9_wc _27UcVY\">\n",
      "     ₹\n",
      "     <!-- -->\n",
      "     8,999\n",
      "    </div>\n",
      "    <div class=\"_3Ay6Sb\">\n",
      "     <span>\n",
      "      16% off\n",
      "     </span>\n",
      "    </div>\n",
      "   </div>\n",
      "  </div>\n",
      "  <div class=\"_13J9qT\">\n",
      "   <img height=\"21\" src=\"//img1a.flixcart.com/www/linchpin/fk-cp-zion/img/fa_62673a.png\"/>\n",
      "  </div>\n",
      "  <div class=\"_2ZdXDB\">\n",
      "   <div class=\"_18hQoS\" style=\"color:#000000;font-size:12px;font-family:inherit;font-weight:normal\">\n",
      "    No Cost EMI\n",
      "   </div>\n",
      "  </div>\n",
      "  <div class=\"_2ZdXDB\">\n",
      "   <div class=\"_18hQoS\" style=\"color:#000000;font-size:14px;font-family:inherit;font-weight:normal\">\n",
      "    Upto\n",
      "   </div>\n",
      "   <div class=\"_18hQoS\" style=\"color:#000000;font-size:14px;font-family:inherit;font-weight:bold\">\n",
      "    ₹6,950\n",
      "   </div>\n",
      "   <div class=\"_18hQoS\" style=\"color:#000000;font-size:14px;font-family:inherit;font-weight:normal\">\n",
      "    Off on Exchange\n",
      "   </div>\n",
      "  </div>\n",
      " </div>\n",
      "</div>\n"
     ]
    }
   ],
   "source": [
    "print(MobileInfo[0].prettify()) #enables to view the nesting of the HTML tags systematically"
   ]
  },
  {
   "cell_type": "code",
   "execution_count": 6,
   "metadata": {
    "ExecuteTime": {
     "end_time": "2021-01-08T08:33:52.134348Z",
     "start_time": "2021-01-08T08:33:52.118468Z"
    },
    "hidden": true
   },
   "outputs": [
    {
     "name": "stdout",
     "output_type": "stream",
     "text": [
      "Realme C11 (Rich Grey, 32 GB)\n",
      "2 GB RAM | 32 GB ROM | Expandable Upto 256 GB16.51 cm (6.5 inch) HD+ Display13MP + 2MP | 5MP Front Camera5000 mAh BatteryMediatek Helio G35 ProcessorBrand Warranty of 1 Year Available for Mobile and 6 Months for Accessories\n",
      "3,56,785 Ratings & 24,220 Reviews\n",
      "4.4\n",
      "₹7,499\n",
      "₹8,999\n"
     ]
    }
   ],
   "source": [
    "Check = MobileInfo[0]\n",
    "\n",
    "ModelName = Check.find('div',{'class':'_4rR01T'}).get_text()\n",
    "Specs = Check.find('div',{'class':'fMghEO'}).get_text()\n",
    "RateRev = Check.find('span',{'class':'_2_R_DZ'}).get_text()\n",
    "Stars = Check.find('div',{'class':'_3LWZlK'}).get_text()\n",
    "Price = Check.find('div',{'class':'_3I9_wc _27UcVY'}).get_text()\n",
    "SalesPrice = Check.find('div',{'class':'_30jeq3 _1_WHN1'}).get_text()\n",
    "\n",
    "print(ModelName)\n",
    "print(Specs)\n",
    "print(RateRev)\n",
    "print(Stars)\n",
    "print(SalesPrice)\n",
    "print(Price)"
   ]
  },
  {
   "cell_type": "markdown",
   "metadata": {
    "hidden": true
   },
   "source": [
    "## 2.2. Lists creation"
   ]
  },
  {
   "cell_type": "code",
   "execution_count": 7,
   "metadata": {
    "ExecuteTime": {
     "end_time": "2021-01-08T08:33:52.164756Z",
     "start_time": "2021-01-08T08:33:52.138491Z"
    },
    "hidden": true
   },
   "outputs": [],
   "source": [
    "ModelName = soup.find_all('div',{'class':'_4rR01T'})\n",
    "ModelName = [pt.get_text() for pt in ModelName]"
   ]
  },
  {
   "cell_type": "code",
   "execution_count": 8,
   "metadata": {
    "ExecuteTime": {
     "end_time": "2021-01-08T08:33:52.194294Z",
     "start_time": "2021-01-08T08:33:52.170084Z"
    },
    "hidden": true
   },
   "outputs": [],
   "source": [
    "RAM = []\n",
    "ROM = []\n",
    "\n",
    "for specs in soup.find_all('div',{'class':'fMghEO'}):\n",
    "    RAM.append(specs.get_text().split(' |')[0].replace(' GB RAM', '').replace(' MB RAM',''))\n",
    "    specs2 = specs.get_text().split('ROM')[0]\n",
    "    ROM.append(specs2.split(' | ')[1].replace(' GB ','').replace(' MB ',''))"
   ]
  },
  {
   "cell_type": "code",
   "execution_count": 9,
   "metadata": {
    "ExecuteTime": {
     "end_time": "2021-01-08T08:33:52.216540Z",
     "start_time": "2021-01-08T08:33:52.197655Z"
    },
    "hidden": true
   },
   "outputs": [],
   "source": [
    "Ratings = []\n",
    "Reviews = []\n",
    "\n",
    "for RateRev in soup.find_all('span',{'class':'_2_R_DZ'}):\n",
    "    Ratings.append(RateRev.get_text().split(' Ratings')[0].replace(',',''))\n",
    "    Reviews.append(RateRev.get_text().replace(\"\\xa0\",\" \").split(' & ')[1].replace(' Reviews', '').replace(\",\",''))"
   ]
  },
  {
   "cell_type": "code",
   "execution_count": 10,
   "metadata": {
    "ExecuteTime": {
     "end_time": "2021-01-08T08:33:52.241591Z",
     "start_time": "2021-01-08T08:33:52.219219Z"
    },
    "hidden": true
   },
   "outputs": [],
   "source": [
    "Stars = []\n",
    "\n",
    "for stars in soup.find_all('div',{'class':'_3LWZlK'}):\n",
    "    Stars.append(stars.get_text())\n",
    "    \n",
    "Stars = Stars[:24]"
   ]
  },
  {
   "cell_type": "code",
   "execution_count": 11,
   "metadata": {
    "ExecuteTime": {
     "end_time": "2021-01-08T08:33:52.288712Z",
     "start_time": "2021-01-08T08:33:52.243573Z"
    },
    "hidden": true
   },
   "outputs": [],
   "source": [
    "SalesPrice = []\n",
    "Price = []\n",
    "\n",
    "for salesprice in soup.find_all('div',{'class':'_30jeq3 _1_WHN1'}):\n",
    "    SalesPrice.append(salesprice.get_text().replace('₹','').replace(',',''))\n",
    "\n",
    "for price in soup.find_all('div',{'class':'_3I9_wc _27UcVY'}):\n",
    "    Price.append(price.get_text().replace('₹','').replace(',',''))"
   ]
  },
  {
   "cell_type": "markdown",
   "metadata": {
    "heading_collapsed": true
   },
   "source": [
    "# 3.0. Pandas DataFrame"
   ]
  },
  {
   "cell_type": "code",
   "execution_count": 12,
   "metadata": {
    "ExecuteTime": {
     "end_time": "2021-01-08T08:33:52.348246Z",
     "start_time": "2021-01-08T08:33:52.290616Z"
    },
    "hidden": true
   },
   "outputs": [],
   "source": [
    "df_MobileInfo = pd.DataFrame({\"ModelName\": pd.Series(ModelName).fillna('NAN'),\n",
    "                              \"RAM_GB\": pd.Series(RAM).fillna(0).astype('int'),\n",
    "                              \"ROM_GB\": pd.Series(ROM).fillna(0).astype('int'),\n",
    "                              \"Ratings\": pd.Series(Ratings).fillna(0).astype('int'),\n",
    "                              \"Reviews\": pd.Series(Reviews).fillna(0).astype('int'),\n",
    "                              \"Stars\": pd.Series(Stars).fillna(0).astype('float'),\n",
    "                              \"ListPrice\": pd.Series(Price).fillna(0).astype('int'),\n",
    "                              \"SalesPrice\": pd.Series(SalesPrice).fillna(0).astype('int')})"
   ]
  },
  {
   "cell_type": "code",
   "execution_count": 13,
   "metadata": {
    "ExecuteTime": {
     "end_time": "2021-01-08T08:33:52.455336Z",
     "start_time": "2021-01-08T08:33:52.350614Z"
    },
    "hidden": true,
    "hide_input": true,
    "scrolled": false
   },
   "outputs": [
    {
     "data": {
      "text/html": [
       "<div>\n",
       "<style scoped>\n",
       "    .dataframe tbody tr th:only-of-type {\n",
       "        vertical-align: middle;\n",
       "    }\n",
       "\n",
       "    .dataframe tbody tr th {\n",
       "        vertical-align: top;\n",
       "    }\n",
       "\n",
       "    .dataframe thead th {\n",
       "        text-align: right;\n",
       "    }\n",
       "</style>\n",
       "<table border=\"1\" class=\"dataframe\">\n",
       "  <thead>\n",
       "    <tr style=\"text-align: right;\">\n",
       "      <th></th>\n",
       "      <th>ModelName</th>\n",
       "      <th>RAM_GB</th>\n",
       "      <th>ROM_GB</th>\n",
       "      <th>Ratings</th>\n",
       "      <th>Reviews</th>\n",
       "      <th>Stars</th>\n",
       "      <th>ListPrice</th>\n",
       "      <th>SalesPrice</th>\n",
       "    </tr>\n",
       "  </thead>\n",
       "  <tbody>\n",
       "    <tr>\n",
       "      <th>0</th>\n",
       "      <td>Realme C11 (Rich Grey, 32 GB)</td>\n",
       "      <td>2</td>\n",
       "      <td>32</td>\n",
       "      <td>356785</td>\n",
       "      <td>24220</td>\n",
       "      <td>4.4</td>\n",
       "      <td>8999</td>\n",
       "      <td>7499</td>\n",
       "    </tr>\n",
       "    <tr>\n",
       "      <th>1</th>\n",
       "      <td>Realme C11 (Rich Green, 32 GB)</td>\n",
       "      <td>2</td>\n",
       "      <td>32</td>\n",
       "      <td>356785</td>\n",
       "      <td>24220</td>\n",
       "      <td>4.4</td>\n",
       "      <td>8999</td>\n",
       "      <td>7499</td>\n",
       "    </tr>\n",
       "    <tr>\n",
       "      <th>2</th>\n",
       "      <td>Realme Narzo 20 (Victory Blue, 128 GB)</td>\n",
       "      <td>4</td>\n",
       "      <td>128</td>\n",
       "      <td>240652</td>\n",
       "      <td>18984</td>\n",
       "      <td>4.3</td>\n",
       "      <td>13999</td>\n",
       "      <td>11499</td>\n",
       "    </tr>\n",
       "    <tr>\n",
       "      <th>3</th>\n",
       "      <td>Realme C12 (Power Silver, 32 GB)</td>\n",
       "      <td>3</td>\n",
       "      <td>32</td>\n",
       "      <td>193117</td>\n",
       "      <td>12275</td>\n",
       "      <td>4.4</td>\n",
       "      <td>10999</td>\n",
       "      <td>8499</td>\n",
       "    </tr>\n",
       "    <tr>\n",
       "      <th>4</th>\n",
       "      <td>Realme Narzo 20 (Glory Silver, 128 GB)</td>\n",
       "      <td>4</td>\n",
       "      <td>128</td>\n",
       "      <td>240652</td>\n",
       "      <td>18984</td>\n",
       "      <td>4.3</td>\n",
       "      <td>13999</td>\n",
       "      <td>11499</td>\n",
       "    </tr>\n",
       "    <tr>\n",
       "      <th>5</th>\n",
       "      <td>Realme Narzo 20 (Glory Silver, 64 GB)</td>\n",
       "      <td>4</td>\n",
       "      <td>64</td>\n",
       "      <td>240652</td>\n",
       "      <td>18984</td>\n",
       "      <td>4.3</td>\n",
       "      <td>12999</td>\n",
       "      <td>10499</td>\n",
       "    </tr>\n",
       "    <tr>\n",
       "      <th>6</th>\n",
       "      <td>Realme Narzo 20A (Victory Blue, 64 GB)</td>\n",
       "      <td>4</td>\n",
       "      <td>64</td>\n",
       "      <td>94983</td>\n",
       "      <td>6125</td>\n",
       "      <td>4.4</td>\n",
       "      <td>11999</td>\n",
       "      <td>9499</td>\n",
       "    </tr>\n",
       "    <tr>\n",
       "      <th>7</th>\n",
       "      <td>Realme Narzo 20A (Glory Silver, 64 GB)</td>\n",
       "      <td>4</td>\n",
       "      <td>64</td>\n",
       "      <td>94983</td>\n",
       "      <td>6125</td>\n",
       "      <td>4.4</td>\n",
       "      <td>11999</td>\n",
       "      <td>9499</td>\n",
       "    </tr>\n",
       "    <tr>\n",
       "      <th>8</th>\n",
       "      <td>Realme Narzo 20A (Victory Blue, 32 GB)</td>\n",
       "      <td>3</td>\n",
       "      <td>32</td>\n",
       "      <td>41825</td>\n",
       "      <td>3312</td>\n",
       "      <td>4.3</td>\n",
       "      <td>10999</td>\n",
       "      <td>8499</td>\n",
       "    </tr>\n",
       "    <tr>\n",
       "      <th>9</th>\n",
       "      <td>Realme 6 (Comet Blue, 64 GB)</td>\n",
       "      <td>6</td>\n",
       "      <td>64</td>\n",
       "      <td>145594</td>\n",
       "      <td>13807</td>\n",
       "      <td>4.4</td>\n",
       "      <td>17999</td>\n",
       "      <td>12999</td>\n",
       "    </tr>\n",
       "    <tr>\n",
       "      <th>10</th>\n",
       "      <td>Realme 6 (Comet White, 64 GB)</td>\n",
       "      <td>6</td>\n",
       "      <td>64</td>\n",
       "      <td>145594</td>\n",
       "      <td>13807</td>\n",
       "      <td>4.4</td>\n",
       "      <td>17999</td>\n",
       "      <td>12999</td>\n",
       "    </tr>\n",
       "    <tr>\n",
       "      <th>11</th>\n",
       "      <td>Realme Narzo 20A (Glory Silver, 32 GB)</td>\n",
       "      <td>3</td>\n",
       "      <td>32</td>\n",
       "      <td>41825</td>\n",
       "      <td>3312</td>\n",
       "      <td>4.3</td>\n",
       "      <td>10999</td>\n",
       "      <td>8499</td>\n",
       "    </tr>\n",
       "    <tr>\n",
       "      <th>12</th>\n",
       "      <td>POCO M2 (Pitch Black, 64 GB)</td>\n",
       "      <td>6</td>\n",
       "      <td>64</td>\n",
       "      <td>222434</td>\n",
       "      <td>17910</td>\n",
       "      <td>4.3</td>\n",
       "      <td>12999</td>\n",
       "      <td>9999</td>\n",
       "    </tr>\n",
       "    <tr>\n",
       "      <th>13</th>\n",
       "      <td>Realme 7i (Fusion Green, 64 GB)</td>\n",
       "      <td>4</td>\n",
       "      <td>64</td>\n",
       "      <td>191425</td>\n",
       "      <td>14046</td>\n",
       "      <td>4.3</td>\n",
       "      <td>13999</td>\n",
       "      <td>11999</td>\n",
       "    </tr>\n",
       "    <tr>\n",
       "      <th>14</th>\n",
       "      <td>Infinix Smart HD 2021 (Topaz Blue, 32 GB)</td>\n",
       "      <td>2</td>\n",
       "      <td>32</td>\n",
       "      <td>7076</td>\n",
       "      <td>409</td>\n",
       "      <td>4.5</td>\n",
       "      <td>7999</td>\n",
       "      <td>5999</td>\n",
       "    </tr>\n",
       "    <tr>\n",
       "      <th>15</th>\n",
       "      <td>Infinix Smart HD 2021 (Quartz Green, 32 GB)</td>\n",
       "      <td>2</td>\n",
       "      <td>32</td>\n",
       "      <td>7076</td>\n",
       "      <td>409</td>\n",
       "      <td>4.5</td>\n",
       "      <td>7999</td>\n",
       "      <td>5999</td>\n",
       "    </tr>\n",
       "    <tr>\n",
       "      <th>16</th>\n",
       "      <td>Infinix Smart HD 2021 (Obsidian Black, 32 GB)</td>\n",
       "      <td>2</td>\n",
       "      <td>32</td>\n",
       "      <td>7076</td>\n",
       "      <td>409</td>\n",
       "      <td>4.5</td>\n",
       "      <td>7999</td>\n",
       "      <td>5999</td>\n",
       "    </tr>\n",
       "    <tr>\n",
       "      <th>17</th>\n",
       "      <td>Motorola E7 Plus (Misty Blue, 64 GB)</td>\n",
       "      <td>4</td>\n",
       "      <td>64</td>\n",
       "      <td>31174</td>\n",
       "      <td>2941</td>\n",
       "      <td>4.2</td>\n",
       "      <td>12999</td>\n",
       "      <td>9499</td>\n",
       "    </tr>\n",
       "    <tr>\n",
       "      <th>18</th>\n",
       "      <td>Infinix Smart 4 Plus (Quetzal Cyan, 32 GB)</td>\n",
       "      <td>3</td>\n",
       "      <td>32</td>\n",
       "      <td>114781</td>\n",
       "      <td>10083</td>\n",
       "      <td>4.4</td>\n",
       "      <td>9999</td>\n",
       "      <td>7999</td>\n",
       "    </tr>\n",
       "    <tr>\n",
       "      <th>19</th>\n",
       "      <td>Infinix Smart 4 Plus (Ocean Wave, 32 GB)</td>\n",
       "      <td>3</td>\n",
       "      <td>32</td>\n",
       "      <td>114781</td>\n",
       "      <td>10083</td>\n",
       "      <td>4.4</td>\n",
       "      <td>9999</td>\n",
       "      <td>7999</td>\n",
       "    </tr>\n",
       "    <tr>\n",
       "      <th>20</th>\n",
       "      <td>Infinix Smart 4 Plus (Midnight Black, 32 GB)</td>\n",
       "      <td>3</td>\n",
       "      <td>32</td>\n",
       "      <td>114781</td>\n",
       "      <td>10083</td>\n",
       "      <td>4.4</td>\n",
       "      <td>9999</td>\n",
       "      <td>7999</td>\n",
       "    </tr>\n",
       "    <tr>\n",
       "      <th>21</th>\n",
       "      <td>Infinix Smart 4 Plus (Violet, 32 GB)</td>\n",
       "      <td>3</td>\n",
       "      <td>32</td>\n",
       "      <td>114781</td>\n",
       "      <td>10083</td>\n",
       "      <td>4.4</td>\n",
       "      <td>9999</td>\n",
       "      <td>7999</td>\n",
       "    </tr>\n",
       "    <tr>\n",
       "      <th>22</th>\n",
       "      <td>POCO C3 (Lime Green, 64 GB)</td>\n",
       "      <td>4</td>\n",
       "      <td>64</td>\n",
       "      <td>67043</td>\n",
       "      <td>4034</td>\n",
       "      <td>4.3</td>\n",
       "      <td>10999</td>\n",
       "      <td>8499</td>\n",
       "    </tr>\n",
       "    <tr>\n",
       "      <th>23</th>\n",
       "      <td>Redmi 9i (Midnight Black, 64 GB)</td>\n",
       "      <td>4</td>\n",
       "      <td>64</td>\n",
       "      <td>148521</td>\n",
       "      <td>8499</td>\n",
       "      <td>4.3</td>\n",
       "      <td>9999</td>\n",
       "      <td>8299</td>\n",
       "    </tr>\n",
       "  </tbody>\n",
       "</table>\n",
       "</div>"
      ],
      "text/plain": [
       "                                        ModelName  RAM_GB  ROM_GB  Ratings  \\\n",
       "0                   Realme C11 (Rich Grey, 32 GB)       2      32   356785   \n",
       "1                  Realme C11 (Rich Green, 32 GB)       2      32   356785   \n",
       "2          Realme Narzo 20 (Victory Blue, 128 GB)       4     128   240652   \n",
       "3                Realme C12 (Power Silver, 32 GB)       3      32   193117   \n",
       "4          Realme Narzo 20 (Glory Silver, 128 GB)       4     128   240652   \n",
       "5           Realme Narzo 20 (Glory Silver, 64 GB)       4      64   240652   \n",
       "6          Realme Narzo 20A (Victory Blue, 64 GB)       4      64    94983   \n",
       "7          Realme Narzo 20A (Glory Silver, 64 GB)       4      64    94983   \n",
       "8          Realme Narzo 20A (Victory Blue, 32 GB)       3      32    41825   \n",
       "9                    Realme 6 (Comet Blue, 64 GB)       6      64   145594   \n",
       "10                  Realme 6 (Comet White, 64 GB)       6      64   145594   \n",
       "11         Realme Narzo 20A (Glory Silver, 32 GB)       3      32    41825   \n",
       "12                   POCO M2 (Pitch Black, 64 GB)       6      64   222434   \n",
       "13                Realme 7i (Fusion Green, 64 GB)       4      64   191425   \n",
       "14      Infinix Smart HD 2021 (Topaz Blue, 32 GB)       2      32     7076   \n",
       "15    Infinix Smart HD 2021 (Quartz Green, 32 GB)       2      32     7076   \n",
       "16  Infinix Smart HD 2021 (Obsidian Black, 32 GB)       2      32     7076   \n",
       "17           Motorola E7 Plus (Misty Blue, 64 GB)       4      64    31174   \n",
       "18     Infinix Smart 4 Plus (Quetzal Cyan, 32 GB)       3      32   114781   \n",
       "19       Infinix Smart 4 Plus (Ocean Wave, 32 GB)       3      32   114781   \n",
       "20   Infinix Smart 4 Plus (Midnight Black, 32 GB)       3      32   114781   \n",
       "21           Infinix Smart 4 Plus (Violet, 32 GB)       3      32   114781   \n",
       "22                    POCO C3 (Lime Green, 64 GB)       4      64    67043   \n",
       "23               Redmi 9i (Midnight Black, 64 GB)       4      64   148521   \n",
       "\n",
       "    Reviews  Stars  ListPrice  SalesPrice  \n",
       "0     24220    4.4       8999        7499  \n",
       "1     24220    4.4       8999        7499  \n",
       "2     18984    4.3      13999       11499  \n",
       "3     12275    4.4      10999        8499  \n",
       "4     18984    4.3      13999       11499  \n",
       "5     18984    4.3      12999       10499  \n",
       "6      6125    4.4      11999        9499  \n",
       "7      6125    4.4      11999        9499  \n",
       "8      3312    4.3      10999        8499  \n",
       "9     13807    4.4      17999       12999  \n",
       "10    13807    4.4      17999       12999  \n",
       "11     3312    4.3      10999        8499  \n",
       "12    17910    4.3      12999        9999  \n",
       "13    14046    4.3      13999       11999  \n",
       "14      409    4.5       7999        5999  \n",
       "15      409    4.5       7999        5999  \n",
       "16      409    4.5       7999        5999  \n",
       "17     2941    4.2      12999        9499  \n",
       "18    10083    4.4       9999        7999  \n",
       "19    10083    4.4       9999        7999  \n",
       "20    10083    4.4       9999        7999  \n",
       "21    10083    4.4       9999        7999  \n",
       "22     4034    4.3      10999        8499  \n",
       "23     8499    4.3       9999        8299  "
      ]
     },
     "execution_count": 13,
     "metadata": {},
     "output_type": "execute_result"
    }
   ],
   "source": [
    "df_MobileInfo"
   ]
  }
 ],
 "metadata": {
  "kernelspec": {
   "display_name": "Python 3",
   "language": "python",
   "name": "python3"
  },
  "language_info": {
   "codemirror_mode": {
    "name": "ipython",
    "version": 3
   },
   "file_extension": ".py",
   "mimetype": "text/x-python",
   "name": "python",
   "nbconvert_exporter": "python",
   "pygments_lexer": "ipython3",
   "version": "3.8.0"
  }
 },
 "nbformat": 4,
 "nbformat_minor": 4
}
