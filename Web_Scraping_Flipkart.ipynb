{
 "cells": [
  {
   "cell_type": "markdown",
   "metadata": {},
   "source": [
    "# 0.0. IMPORTS"
   ]
  },
  {
   "cell_type": "code",
   "execution_count": 117,
   "metadata": {
    "ExecuteTime": {
     "end_time": "2021-01-07T14:19:51.861019Z",
     "start_time": "2021-01-07T14:19:51.852193Z"
    }
   },
   "outputs": [],
   "source": [
    "import pandas as pd\n",
    "import requests\n",
    "from bs4 import BeautifulSoup"
   ]
  },
  {
   "cell_type": "markdown",
   "metadata": {},
   "source": [
    "# 1.0. requests"
   ]
  },
  {
   "cell_type": "code",
   "execution_count": 91,
   "metadata": {
    "ExecuteTime": {
     "end_time": "2021-01-07T14:08:11.234648Z",
     "start_time": "2021-01-07T14:08:08.256523Z"
    }
   },
   "outputs": [
    {
     "data": {
      "text/plain": [
       "200"
      ]
     },
     "execution_count": 91,
     "metadata": {},
     "output_type": "execute_result"
    }
   ],
   "source": [
    "url1 = 'https://www.flipkart.com/mobiles/pr?sid=tyy%2C4io&otracker=categorytree%27'\n",
    "r = requests.get(url1)\n",
    "\n",
    "r.status_code"
   ]
  },
  {
   "cell_type": "markdown",
   "metadata": {},
   "source": [
    "# 2.0. BeautifulSoup"
   ]
  },
  {
   "cell_type": "code",
   "execution_count": 92,
   "metadata": {
    "ExecuteTime": {
     "end_time": "2021-01-07T14:08:11.943785Z",
     "start_time": "2021-01-07T14:08:11.810737Z"
    }
   },
   "outputs": [],
   "source": [
    "soup = BeautifulSoup(r.content, 'html.parser')"
   ]
  },
  {
   "cell_type": "code",
   "execution_count": 93,
   "metadata": {
    "ExecuteTime": {
     "end_time": "2021-01-07T14:08:14.275195Z",
     "start_time": "2021-01-07T14:08:14.250280Z"
    }
   },
   "outputs": [],
   "source": [
    "MobileInfo = []\n",
    "\n",
    "for text in soup.find_all('div',{'class':'_3pLy-c row'}):\n",
    "    b = text\n",
    "    MobileInfo.append(b)"
   ]
  },
  {
   "cell_type": "markdown",
   "metadata": {},
   "source": [
    "## 2.1. Checking class labels"
   ]
  },
  {
   "cell_type": "code",
   "execution_count": 26,
   "metadata": {
    "ExecuteTime": {
     "end_time": "2021-01-07T10:51:34.054340Z",
     "start_time": "2021-01-07T10:51:34.046168Z"
    },
    "scrolled": true
   },
   "outputs": [
    {
     "name": "stdout",
     "output_type": "stream",
     "text": [
      "<div class=\"_3pLy-c row\">\n",
      " <div class=\"col col-7-12\">\n",
      "  <div class=\"_4rR01T\">\n",
      "   Realme C11 (Rich Grey, 32 GB)\n",
      "  </div>\n",
      "  <div class=\"gUuXy-\">\n",
      "   <span class=\"_1lRcqv\" id=\"productRating_LSTMOBFTAYBBVKFEGTZWDSL91_MOBFTAYBBVKFEGTZ_\">\n",
      "    <div class=\"_3LWZlK\">\n",
      "     4.4\n",
      "     <img class=\"_1wB99o\" src=\"data:image/svg+xml;base64,PHN2ZyB4bWxucz0iaHR0cDovL3d3dy53My5vcmcvMjAwMC9zdmciIHdpZHRoPSIxMyIgaGVpZ2h0PSIxMiI+PHBhdGggZmlsbD0iI0ZGRiIgZD0iTTYuNSA5LjQzOWwtMy42NzQgMi4yMy45NC00LjI2LTMuMjEtMi44ODMgNC4yNTQtLjQwNEw2LjUuMTEybDEuNjkgNC4wMSA0LjI1NC40MDQtMy4yMSAyLjg4Mi45NCA0LjI2eiIvPjwvc3ZnPg==\"/>\n",
      "    </div>\n",
      "   </span>\n",
      "   <span class=\"_2_R_DZ\">\n",
      "    <span>\n",
      "     <span>\n",
      "      3,55,423 Ratings\n",
      "     </span>\n",
      "     <span class=\"_13vcmD\">\n",
      "      &amp;\n",
      "     </span>\n",
      "     <span>\n",
      "      24,134 Reviews\n",
      "     </span>\n",
      "    </span>\n",
      "   </span>\n",
      "  </div>\n",
      "  <div class=\"fMghEO\">\n",
      "   <ul class=\"_1xgFaf\">\n",
      "    <li class=\"rgWa7D\">\n",
      "     2 GB RAM | 32 GB ROM | Expandable Upto 256 GB\n",
      "    </li>\n",
      "    <li class=\"rgWa7D\">\n",
      "     16.51 cm (6.5 inch) HD+ Display\n",
      "    </li>\n",
      "    <li class=\"rgWa7D\">\n",
      "     13MP + 2MP | 5MP Front Camera\n",
      "    </li>\n",
      "    <li class=\"rgWa7D\">\n",
      "     5000 mAh Battery\n",
      "    </li>\n",
      "    <li class=\"rgWa7D\">\n",
      "     Mediatek Helio G35 Processor\n",
      "    </li>\n",
      "    <li class=\"rgWa7D\">\n",
      "     Brand Warranty of 1 Year Available for Mobile and 6 Months for Accessories\n",
      "    </li>\n",
      "   </ul>\n",
      "  </div>\n",
      " </div>\n",
      " <div class=\"col col-5-12 nlI3QM\">\n",
      "  <div class=\"_3tbKJL\">\n",
      "   <div class=\"_25b18c\">\n",
      "    <div class=\"_30jeq3 _1_WHN1\">\n",
      "     ₹7,499\n",
      "    </div>\n",
      "    <div class=\"_3I9_wc _27UcVY\">\n",
      "     ₹\n",
      "     <!-- -->\n",
      "     8,999\n",
      "    </div>\n",
      "    <div class=\"_3Ay6Sb\">\n",
      "     <span>\n",
      "      16% off\n",
      "     </span>\n",
      "    </div>\n",
      "   </div>\n",
      "  </div>\n",
      "  <div class=\"_13J9qT\">\n",
      "   <img height=\"21\" src=\"//img1a.flixcart.com/www/linchpin/fk-cp-zion/img/fa_62673a.png\"/>\n",
      "  </div>\n",
      "  <div class=\"_2ZdXDB\">\n",
      "   <div class=\"_18hQoS\" style=\"color:#000000;font-size:12px;font-family:inherit;font-weight:normal\">\n",
      "    No Cost EMI\n",
      "   </div>\n",
      "  </div>\n",
      "  <div class=\"_2ZdXDB\">\n",
      "   <div class=\"_18hQoS\" style=\"color:#000000;font-size:14px;font-family:inherit;font-weight:normal\">\n",
      "    Upto\n",
      "   </div>\n",
      "   <div class=\"_18hQoS\" style=\"color:#000000;font-size:14px;font-family:inherit;font-weight:bold\">\n",
      "    ₹6,950\n",
      "   </div>\n",
      "   <div class=\"_18hQoS\" style=\"color:#000000;font-size:14px;font-family:inherit;font-weight:normal\">\n",
      "    Off on Exchange\n",
      "   </div>\n",
      "  </div>\n",
      " </div>\n",
      "</div>\n"
     ]
    }
   ],
   "source": [
    "print(MobileInfo[0].prettify()) #enables to view the nesting of the HTML tags systematically"
   ]
  },
  {
   "cell_type": "code",
   "execution_count": 94,
   "metadata": {
    "ExecuteTime": {
     "end_time": "2021-01-07T14:08:15.972687Z",
     "start_time": "2021-01-07T14:08:15.966081Z"
    }
   },
   "outputs": [
    {
     "name": "stdout",
     "output_type": "stream",
     "text": [
      "Realme C11 (Rich Grey, 32 GB)\n",
      "2 GB RAM | 32 GB ROM | Expandable Upto 256 GB16.51 cm (6.5 inch) HD+ Display13MP + 2MP | 5MP Front Camera5000 mAh BatteryMediatek Helio G35 ProcessorBrand Warranty of 1 Year Available for Mobile and 6 Months for Accessories\n",
      "3,55,783 Ratings & 24,139 Reviews\n",
      "4.4\n",
      "₹7,499\n",
      "₹8,999\n"
     ]
    }
   ],
   "source": [
    "Check = MobileInfo[0]\n",
    "\n",
    "ModelName = Check.find('div',{'class':'_4rR01T'}).get_text()\n",
    "Specs = Check.find('div',{'class':'fMghEO'}).get_text()\n",
    "RateRev = Check.find('span',{'class':'_2_R_DZ'}).get_text()\n",
    "Stars = Check.find('div',{'class':'_3LWZlK'}).get_text()\n",
    "Price = Check.find('div',{'class':'_3I9_wc _27UcVY'}).get_text()\n",
    "SalesPrice = Check.find('div',{'class':'_30jeq3 _1_WHN1'}).get_text()\n",
    "\n",
    "print(ModelName)\n",
    "print(Specs)\n",
    "print(RateRev)\n",
    "print(Stars)\n",
    "print(SalesPrice)\n",
    "print(Price)"
   ]
  },
  {
   "cell_type": "markdown",
   "metadata": {},
   "source": [
    "## 2.2. Lists creation"
   ]
  },
  {
   "cell_type": "code",
   "execution_count": 95,
   "metadata": {
    "ExecuteTime": {
     "end_time": "2021-01-07T14:08:18.741114Z",
     "start_time": "2021-01-07T14:08:18.704667Z"
    }
   },
   "outputs": [],
   "source": [
    "ModelName = soup.find_all('div',{'class':'_4rR01T'})\n",
    "ModelName = [pt.get_text() for pt in ModelName]"
   ]
  },
  {
   "cell_type": "code",
   "execution_count": 96,
   "metadata": {
    "ExecuteTime": {
     "end_time": "2021-01-07T14:08:20.733214Z",
     "start_time": "2021-01-07T14:08:20.701556Z"
    }
   },
   "outputs": [],
   "source": [
    "RAM = []\n",
    "ROM = []\n",
    "\n",
    "for specs in soup.find_all('div',{'class':'fMghEO'}):\n",
    "    RAM.append(specs.get_text().split(' |')[0].replace(' GB RAM', '').replace(' MB RAM',''))\n",
    "    specs2 = specs.get_text().split('ROM')[0]\n",
    "    ROM.append(specs2.split(' | ')[1].replace(' GB ','').replace(' MB ',''))"
   ]
  },
  {
   "cell_type": "code",
   "execution_count": 99,
   "metadata": {
    "ExecuteTime": {
     "end_time": "2021-01-07T14:09:00.185429Z",
     "start_time": "2021-01-07T14:09:00.173929Z"
    }
   },
   "outputs": [],
   "source": [
    "Ratings = []\n",
    "Reviews = []\n",
    "\n",
    "for RateRev in soup.find_all('span',{'class':'_2_R_DZ'}):\n",
    "    Ratings.append(RateRev.get_text().split(' Ratings')[0].replace(',',''))\n",
    "    Reviews.append(RateRev.get_text().replace(\"\\xa0\",\" \").split(' & ')[1].replace(' Reviews', '').replace(\",\",''))"
   ]
  },
  {
   "cell_type": "code",
   "execution_count": 121,
   "metadata": {
    "ExecuteTime": {
     "end_time": "2021-01-07T14:20:36.792027Z",
     "start_time": "2021-01-07T14:20:36.753689Z"
    }
   },
   "outputs": [],
   "source": [
    "Stars = []\n",
    "\n",
    "for stars in soup.find_all('div',{'class':'_3LWZlK'}):\n",
    "    Stars.append(stars.get_text())\n",
    "    \n",
    "Stars = Stars[:24]"
   ]
  },
  {
   "cell_type": "code",
   "execution_count": 110,
   "metadata": {
    "ExecuteTime": {
     "end_time": "2021-01-07T14:14:04.153365Z",
     "start_time": "2021-01-07T14:14:04.098624Z"
    }
   },
   "outputs": [],
   "source": [
    "SalesPrice = []\n",
    "Price = []\n",
    "\n",
    "for salesprice in soup.find_all('div',{'class':'_30jeq3 _1_WHN1'}):\n",
    "    SalesPrice.append(salesprice.get_text().replace('₹','').replace(',',''))\n",
    "\n",
    "for price in soup.find_all('div',{'class':'_3I9_wc _27UcVY'}):\n",
    "    Price.append(price.get_text().replace('₹','').replace(',',''))"
   ]
  },
  {
   "cell_type": "markdown",
   "metadata": {},
   "source": [
    "# 3.0. Pandas DataFrame"
   ]
  },
  {
   "cell_type": "code",
   "execution_count": 122,
   "metadata": {
    "ExecuteTime": {
     "end_time": "2021-01-07T14:20:40.527962Z",
     "start_time": "2021-01-07T14:20:40.516889Z"
    }
   },
   "outputs": [],
   "source": [
    "df_MobileInfo = pd.DataFrame({\"ModelName\": pd.Series(ModelName).fillna('NAN'),\n",
    "                              \"RAM_GB\": pd.Series(RAM).fillna(0).astype('int'),\n",
    "                              \"ROM_GB\": pd.Series(ROM).fillna(0).astype('int'),\n",
    "                              \"Ratings\": pd.Series(Ratings).fillna(0).astype('int'),\n",
    "                              \"Reviews\": pd.Series(Reviews).fillna(0).astype('int'),\n",
    "                              \"Stars\": pd.Series(Stars).fillna(0).astype('float'),\n",
    "                              \"ListPrice\": pd.Series(Price).fillna(0).astype('int'),\n",
    "                              \"SalesPrice\": pd.Series(SalesPrice).fillna(0).astype('int')})"
   ]
  },
  {
   "cell_type": "code",
   "execution_count": 123,
   "metadata": {
    "ExecuteTime": {
     "end_time": "2021-01-07T14:20:41.851542Z",
     "start_time": "2021-01-07T14:20:41.819142Z"
    }
   },
   "outputs": [
    {
     "data": {
      "text/html": [
       "<div>\n",
       "<style scoped>\n",
       "    .dataframe tbody tr th:only-of-type {\n",
       "        vertical-align: middle;\n",
       "    }\n",
       "\n",
       "    .dataframe tbody tr th {\n",
       "        vertical-align: top;\n",
       "    }\n",
       "\n",
       "    .dataframe thead th {\n",
       "        text-align: right;\n",
       "    }\n",
       "</style>\n",
       "<table border=\"1\" class=\"dataframe\">\n",
       "  <thead>\n",
       "    <tr style=\"text-align: right;\">\n",
       "      <th></th>\n",
       "      <th>ModelName</th>\n",
       "      <th>RAM_GB</th>\n",
       "      <th>ROM_GB</th>\n",
       "      <th>Ratings</th>\n",
       "      <th>Reviews</th>\n",
       "      <th>Stars</th>\n",
       "      <th>ListPrice</th>\n",
       "      <th>SalesPrice</th>\n",
       "    </tr>\n",
       "  </thead>\n",
       "  <tbody>\n",
       "    <tr>\n",
       "      <th>0</th>\n",
       "      <td>Realme C11 (Rich Grey, 32 GB)</td>\n",
       "      <td>2</td>\n",
       "      <td>32</td>\n",
       "      <td>355783.0</td>\n",
       "      <td>24139.0</td>\n",
       "      <td>4.4</td>\n",
       "      <td>8999.0</td>\n",
       "      <td>7499</td>\n",
       "    </tr>\n",
       "    <tr>\n",
       "      <th>1</th>\n",
       "      <td>Realme C11 (Rich Green, 32 GB)</td>\n",
       "      <td>2</td>\n",
       "      <td>32</td>\n",
       "      <td>355783.0</td>\n",
       "      <td>24139.0</td>\n",
       "      <td>4.4</td>\n",
       "      <td>8999.0</td>\n",
       "      <td>7499</td>\n",
       "    </tr>\n",
       "    <tr>\n",
       "      <th>2</th>\n",
       "      <td>Realme Narzo 20 (Victory Blue, 128 GB)</td>\n",
       "      <td>4</td>\n",
       "      <td>128</td>\n",
       "      <td>239226.0</td>\n",
       "      <td>18760.0</td>\n",
       "      <td>4.3</td>\n",
       "      <td>13999.0</td>\n",
       "      <td>11499</td>\n",
       "    </tr>\n",
       "    <tr>\n",
       "      <th>3</th>\n",
       "      <td>Blackbear A1 Aura</td>\n",
       "      <td>32</td>\n",
       "      <td>64</td>\n",
       "      <td>465.0</td>\n",
       "      <td>60.0</td>\n",
       "      <td>3.7</td>\n",
       "      <td>849.0</td>\n",
       "      <td>839</td>\n",
       "    </tr>\n",
       "    <tr>\n",
       "      <th>4</th>\n",
       "      <td>Realme C12 (Power Silver, 32 GB)</td>\n",
       "      <td>3</td>\n",
       "      <td>32</td>\n",
       "      <td>192803.0</td>\n",
       "      <td>12236.0</td>\n",
       "      <td>4.4</td>\n",
       "      <td>10999.0</td>\n",
       "      <td>8499</td>\n",
       "    </tr>\n",
       "    <tr>\n",
       "      <th>5</th>\n",
       "      <td>Realme Narzo 20 (Glory Silver, 64 GB)</td>\n",
       "      <td>4</td>\n",
       "      <td>64</td>\n",
       "      <td>239226.0</td>\n",
       "      <td>18760.0</td>\n",
       "      <td>4.3</td>\n",
       "      <td>12999.0</td>\n",
       "      <td>10499</td>\n",
       "    </tr>\n",
       "    <tr>\n",
       "      <th>6</th>\n",
       "      <td>Realme Narzo 20 (Glory Silver, 128 GB)</td>\n",
       "      <td>4</td>\n",
       "      <td>128</td>\n",
       "      <td>239226.0</td>\n",
       "      <td>18760.0</td>\n",
       "      <td>4.3</td>\n",
       "      <td>13999.0</td>\n",
       "      <td>11499</td>\n",
       "    </tr>\n",
       "    <tr>\n",
       "      <th>7</th>\n",
       "      <td>kawl K57</td>\n",
       "      <td>4</td>\n",
       "      <td>64</td>\n",
       "      <td>239226.0</td>\n",
       "      <td>18760.0</td>\n",
       "      <td>4.3</td>\n",
       "      <td>12999.0</td>\n",
       "      <td>1999</td>\n",
       "    </tr>\n",
       "    <tr>\n",
       "      <th>8</th>\n",
       "      <td>Realme Narzo 20 (Victory Blue, 64 GB)</td>\n",
       "      <td>4</td>\n",
       "      <td>64</td>\n",
       "      <td>94392.0</td>\n",
       "      <td>6059.0</td>\n",
       "      <td>4.4</td>\n",
       "      <td>11999.0</td>\n",
       "      <td>10499</td>\n",
       "    </tr>\n",
       "    <tr>\n",
       "      <th>9</th>\n",
       "      <td>Realme Narzo 20A (Glory Silver, 64 GB)</td>\n",
       "      <td>4</td>\n",
       "      <td>64</td>\n",
       "      <td>94392.0</td>\n",
       "      <td>6059.0</td>\n",
       "      <td>4.4</td>\n",
       "      <td>11999.0</td>\n",
       "      <td>9499</td>\n",
       "    </tr>\n",
       "    <tr>\n",
       "      <th>10</th>\n",
       "      <td>Realme Narzo 20A (Victory Blue, 64 GB)</td>\n",
       "      <td>4</td>\n",
       "      <td>64</td>\n",
       "      <td>41503.0</td>\n",
       "      <td>3273.0</td>\n",
       "      <td>4.3</td>\n",
       "      <td>10999.0</td>\n",
       "      <td>9499</td>\n",
       "    </tr>\n",
       "    <tr>\n",
       "      <th>11</th>\n",
       "      <td>kawl K25</td>\n",
       "      <td>4</td>\n",
       "      <td>64</td>\n",
       "      <td>221362.0</td>\n",
       "      <td>17764.0</td>\n",
       "      <td>4.3</td>\n",
       "      <td>12999.0</td>\n",
       "      <td>1799</td>\n",
       "    </tr>\n",
       "    <tr>\n",
       "      <th>12</th>\n",
       "      <td>Realme Narzo 20A (Victory Blue, 32 GB)</td>\n",
       "      <td>3</td>\n",
       "      <td>32</td>\n",
       "      <td>145135.0</td>\n",
       "      <td>13754.0</td>\n",
       "      <td>4.4</td>\n",
       "      <td>17999.0</td>\n",
       "      <td>8499</td>\n",
       "    </tr>\n",
       "    <tr>\n",
       "      <th>13</th>\n",
       "      <td>POCO M2 (Pitch Black, 64 GB)</td>\n",
       "      <td>6</td>\n",
       "      <td>64</td>\n",
       "      <td>145135.0</td>\n",
       "      <td>13754.0</td>\n",
       "      <td>4.4</td>\n",
       "      <td>17999.0</td>\n",
       "      <td>9999</td>\n",
       "    </tr>\n",
       "    <tr>\n",
       "      <th>14</th>\n",
       "      <td>Realme 6 (Comet Blue, 64 GB)</td>\n",
       "      <td>6</td>\n",
       "      <td>64</td>\n",
       "      <td>31089.0</td>\n",
       "      <td>2918.0</td>\n",
       "      <td>4.2</td>\n",
       "      <td>12999.0</td>\n",
       "      <td>12999</td>\n",
       "    </tr>\n",
       "    <tr>\n",
       "      <th>15</th>\n",
       "      <td>kawl K22</td>\n",
       "      <td>4</td>\n",
       "      <td>64</td>\n",
       "      <td>66423.0</td>\n",
       "      <td>3950.0</td>\n",
       "      <td>4.3</td>\n",
       "      <td>10999.0</td>\n",
       "      <td>1699</td>\n",
       "    </tr>\n",
       "    <tr>\n",
       "      <th>16</th>\n",
       "      <td>Realme 6 (Comet White, 64 GB)</td>\n",
       "      <td>6</td>\n",
       "      <td>64</td>\n",
       "      <td>114534.0</td>\n",
       "      <td>10049.0</td>\n",
       "      <td>4.4</td>\n",
       "      <td>9999.0</td>\n",
       "      <td>12999</td>\n",
       "    </tr>\n",
       "    <tr>\n",
       "      <th>17</th>\n",
       "      <td>Motorola E7 Plus (Misty Blue, 64 GB)</td>\n",
       "      <td>4</td>\n",
       "      <td>64</td>\n",
       "      <td>105862.0</td>\n",
       "      <td>7811.0</td>\n",
       "      <td>4.3</td>\n",
       "      <td>9999.0</td>\n",
       "      <td>9499</td>\n",
       "    </tr>\n",
       "    <tr>\n",
       "      <th>18</th>\n",
       "      <td>POCO C3 (Lime Green, 64 GB)</td>\n",
       "      <td>4</td>\n",
       "      <td>64</td>\n",
       "      <td>147919.0</td>\n",
       "      <td>8416.0</td>\n",
       "      <td>4.3</td>\n",
       "      <td>9999.0</td>\n",
       "      <td>8499</td>\n",
       "    </tr>\n",
       "    <tr>\n",
       "      <th>19</th>\n",
       "      <td>kawl K8</td>\n",
       "      <td>4</td>\n",
       "      <td>64</td>\n",
       "      <td>NaN</td>\n",
       "      <td>NaN</td>\n",
       "      <td>4.3</td>\n",
       "      <td>NaN</td>\n",
       "      <td>1149</td>\n",
       "    </tr>\n",
       "    <tr>\n",
       "      <th>20</th>\n",
       "      <td>Infinix Smart 4 Plus (Quetzal Cyan, 32 GB)</td>\n",
       "      <td>3</td>\n",
       "      <td>32</td>\n",
       "      <td>NaN</td>\n",
       "      <td>NaN</td>\n",
       "      <td>5.0</td>\n",
       "      <td>NaN</td>\n",
       "      <td>7999</td>\n",
       "    </tr>\n",
       "    <tr>\n",
       "      <th>21</th>\n",
       "      <td>POCO C3 (Matte Black, 32 GB)</td>\n",
       "      <td>3</td>\n",
       "      <td>32</td>\n",
       "      <td>NaN</td>\n",
       "      <td>NaN</td>\n",
       "      <td>5.0</td>\n",
       "      <td>NaN</td>\n",
       "      <td>7499</td>\n",
       "    </tr>\n",
       "    <tr>\n",
       "      <th>22</th>\n",
       "      <td>Redmi 9i (Midnight Black, 64 GB)</td>\n",
       "      <td>4</td>\n",
       "      <td>64</td>\n",
       "      <td>NaN</td>\n",
       "      <td>NaN</td>\n",
       "      <td>4.4</td>\n",
       "      <td>NaN</td>\n",
       "      <td>8299</td>\n",
       "    </tr>\n",
       "    <tr>\n",
       "      <th>23</th>\n",
       "      <td>kawl STAR</td>\n",
       "      <td>4</td>\n",
       "      <td>64</td>\n",
       "      <td>NaN</td>\n",
       "      <td>NaN</td>\n",
       "      <td>5.0</td>\n",
       "      <td>NaN</td>\n",
       "      <td>1199</td>\n",
       "    </tr>\n",
       "  </tbody>\n",
       "</table>\n",
       "</div>"
      ],
      "text/plain": [
       "                                     ModelName  RAM_GB  ROM_GB   Ratings  \\\n",
       "0                Realme C11 (Rich Grey, 32 GB)       2      32  355783.0   \n",
       "1               Realme C11 (Rich Green, 32 GB)       2      32  355783.0   \n",
       "2       Realme Narzo 20 (Victory Blue, 128 GB)       4     128  239226.0   \n",
       "3                            Blackbear A1 Aura      32      64     465.0   \n",
       "4             Realme C12 (Power Silver, 32 GB)       3      32  192803.0   \n",
       "5        Realme Narzo 20 (Glory Silver, 64 GB)       4      64  239226.0   \n",
       "6       Realme Narzo 20 (Glory Silver, 128 GB)       4     128  239226.0   \n",
       "7                                     kawl K57       4      64  239226.0   \n",
       "8        Realme Narzo 20 (Victory Blue, 64 GB)       4      64   94392.0   \n",
       "9       Realme Narzo 20A (Glory Silver, 64 GB)       4      64   94392.0   \n",
       "10      Realme Narzo 20A (Victory Blue, 64 GB)       4      64   41503.0   \n",
       "11                                    kawl K25       4      64  221362.0   \n",
       "12      Realme Narzo 20A (Victory Blue, 32 GB)       3      32  145135.0   \n",
       "13                POCO M2 (Pitch Black, 64 GB)       6      64  145135.0   \n",
       "14                Realme 6 (Comet Blue, 64 GB)       6      64   31089.0   \n",
       "15                                    kawl K22       4      64   66423.0   \n",
       "16               Realme 6 (Comet White, 64 GB)       6      64  114534.0   \n",
       "17        Motorola E7 Plus (Misty Blue, 64 GB)       4      64  105862.0   \n",
       "18                 POCO C3 (Lime Green, 64 GB)       4      64  147919.0   \n",
       "19                                     kawl K8       4      64       NaN   \n",
       "20  Infinix Smart 4 Plus (Quetzal Cyan, 32 GB)       3      32       NaN   \n",
       "21                POCO C3 (Matte Black, 32 GB)       3      32       NaN   \n",
       "22            Redmi 9i (Midnight Black, 64 GB)       4      64       NaN   \n",
       "23                                   kawl STAR       4      64       NaN   \n",
       "\n",
       "    Reviews  Stars  ListPrice  SalesPrice  \n",
       "0   24139.0    4.4     8999.0        7499  \n",
       "1   24139.0    4.4     8999.0        7499  \n",
       "2   18760.0    4.3    13999.0       11499  \n",
       "3      60.0    3.7      849.0         839  \n",
       "4   12236.0    4.4    10999.0        8499  \n",
       "5   18760.0    4.3    12999.0       10499  \n",
       "6   18760.0    4.3    13999.0       11499  \n",
       "7   18760.0    4.3    12999.0        1999  \n",
       "8    6059.0    4.4    11999.0       10499  \n",
       "9    6059.0    4.4    11999.0        9499  \n",
       "10   3273.0    4.3    10999.0        9499  \n",
       "11  17764.0    4.3    12999.0        1799  \n",
       "12  13754.0    4.4    17999.0        8499  \n",
       "13  13754.0    4.4    17999.0        9999  \n",
       "14   2918.0    4.2    12999.0       12999  \n",
       "15   3950.0    4.3    10999.0        1699  \n",
       "16  10049.0    4.4     9999.0       12999  \n",
       "17   7811.0    4.3     9999.0        9499  \n",
       "18   8416.0    4.3     9999.0        8499  \n",
       "19      NaN    4.3        NaN        1149  \n",
       "20      NaN    5.0        NaN        7999  \n",
       "21      NaN    5.0        NaN        7499  \n",
       "22      NaN    4.4        NaN        8299  \n",
       "23      NaN    5.0        NaN        1199  "
      ]
     },
     "execution_count": 123,
     "metadata": {},
     "output_type": "execute_result"
    }
   ],
   "source": [
    "df_MobileInfo"
   ]
  }
 ],
 "metadata": {
  "kernelspec": {
   "display_name": "Python 3",
   "language": "python",
   "name": "python3"
  },
  "language_info": {
   "codemirror_mode": {
    "name": "ipython",
    "version": 3
   },
   "file_extension": ".py",
   "mimetype": "text/x-python",
   "name": "python",
   "nbconvert_exporter": "python",
   "pygments_lexer": "ipython3",
   "version": "3.8.0"
  }
 },
 "nbformat": 4,
 "nbformat_minor": 4
}
